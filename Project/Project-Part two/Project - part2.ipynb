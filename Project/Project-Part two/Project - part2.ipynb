{
 "cells": [
  {
   "cell_type": "markdown",
   "id": "ae618e74",
   "metadata": {},
   "source": [
    "# Project Part II: Predicting Housing Prices - Build Your Own Model (50 pts)\n",
    "\n",
    " "
   ]
  },
  {
   "cell_type": "markdown",
   "id": "76c7626e",
   "metadata": {},
   "source": [
    "### Grading Scheme\n",
    "\n",
    "Your grade for the project will be based on your training RMSE and test RMSE. The thresholds are as follows:\n",
    "\n",
    "Points | 20 | 17 | 15 | 10\n",
    "--- | --- | --- | --- | ---\n",
    "Training RMSE | Less than 70k | [70k, 120k) | [120k, 200k) | More than 230k\n",
    "\n",
    "Points | 20 | 17 | 15 | 10\n",
    "--- | --- | --- | --- | ---\n",
    "Test RMSE | Less than 75k | [70k, 130k) | [130k, 230k) | More than 230k\n",
    "\n",
    "The top 20% of the submissions with the least testing errors will receive the additional 10 points\n"
   ]
  },
  {
   "cell_type": "code",
   "execution_count": 1,
   "id": "1772855f",
   "metadata": {},
   "outputs": [],
   "source": [
    "# Some Imports You Might Need\n",
    "import numpy as np\n",
    "import pandas as pd\n",
    "from pandas.api.types import CategoricalDtype\n",
    "\n",
    "%matplotlib inline\n",
    "import matplotlib.pyplot as plt\n",
    "import seaborn as sns\n",
    "\n",
    "import warnings\n",
    "warnings.filterwarnings(\"ignore\")\n",
    "\n",
    "import zipfile\n",
    "import os\n",
    "\n",
    "from sklearn.preprocessing import OneHotEncoder\n",
    "from sklearn import linear_model as lm\n",
    "\n",
    "# Plot settings\n",
    "plt.rcParams['figure.figsize'] = (12, 9)\n",
    "plt.rcParams['font.size'] = 12\n",
    "\n",
    "# Extract Dataset\n",
    "with zipfile.ZipFile('cook_county_contest_data.zip') as item:\n",
    "    item.extractall()\n",
    "    \n",
    "    \n",
    "### Note: we filtered the data in cook_county_contest_data, \n",
    "####so please use this dataset instead of the old one."
   ]
  },
  {
   "cell_type": "markdown",
   "id": "bd38f799",
   "metadata": {},
   "source": [
    "### Note\n",
    "\n",
    "This notebook is specifically designed to guide you through the process of exporting your model's predictions on the test dataset for submission so you can see how your model performs.\n",
    "\n",
    "Most of what you have done in project part I should be transferrable here. "
   ]
  },
  {
   "cell_type": "markdown",
   "id": "8147eefe",
   "metadata": {},
   "source": [
    "## Step 1. Set up all the helper functions for your `process_data_fm` function.\n",
    "\n",
    "**Copy-paste all of the helper functions your `process_data_fm` need here in the following cell**. You **do not** have to fill out all of the functions in the cell below -- only fill out those that are actually useful to your feature engineering pipeline."
   ]
  },
  {
   "cell_type": "code",
   "execution_count": 150,
   "id": "f4a05360",
   "metadata": {},
   "outputs": [],
   "source": [
    "import re\n",
    "def add_total_bedrooms(data):\n",
    "    \"\"\"\n",
    "    Input:\n",
    "      data (data frame): a data frame containing at least the Description column.\n",
    "    \"\"\"\n",
    "    with_rooms = data.copy()\n",
    "    with_rooms['Bedrooms'] = data['Description'].apply(lambda row: int(re.findall(r'(\\d+(?:\\.\\d+)?) of which are bedrooms', row)[0])).fillna(0)\n",
    "    return with_rooms\n",
    "def add_total_bathrooms(data):\n",
    "    \"\"\"\n",
    "    Input:\n",
    "      data (data frame): a data frame containing at least the Description column.\n",
    "    \"\"\"\n",
    "    with_rooms = data.copy()\n",
    "    with_rooms['Bathrooms'] = data['Description'].apply(lambda row: re.findall(r'(\\d+(?:\\.\\d+)?) of which are bathrooms', row)[0]).fillna(0)\n",
    "    return with_rooms\n",
    "def add_total_rooms(data):\n",
    "    \"\"\"\n",
    "    Input:\n",
    "      data (data frame): a data frame containing at least the Description column.\n",
    "    \"\"\"\n",
    "    with_rooms = data.copy()\n",
    "    with_rooms['Totalrooms'] = data['Description'].apply(lambda row: re.findall(r'It has a total of (\\d+(?:\\.\\d+)?) rooms', row)[0]).fillna(0)\n",
    "    return with_rooms\n",
    "def process_ohe_vals(data, *columns):\n",
    "    data_copy = data.copy()\n",
    "    for column in columns:\n",
    "        X = data_copy[column].values.reshape(-1, 1)\n",
    "        enc = OneHotEncoder().fit(X)\n",
    "        names = enc.get_feature_names()\n",
    "        names = [ele + column for ele in names]\n",
    "        re = pd.DataFrame(enc.transform(X).toarray(), columns=names)\n",
    "        data_copy = pd.merge(data_copy, re, left_index=True, right_index=True)\n",
    "    return data_copy\n",
    "\n",
    "def ohe_roof_material(data):\n",
    "    \"\"\"\n",
    "    One-hot-encodes roof material.  New columns are of the form 0x_QUALITY.\n",
    "    \"\"\"\n",
    "    with_ohe = data.copy()\n",
    "    with_ohe['Roof Material'].replace([1,2,3,4,5,6], ['Single/Asphalt', 'Tar&Gravel', 'Slate', 'Shake', 'Tile', 'Other'], inplace=True)\n",
    "    X = with_ohe['Roof Material'].values.reshape(-1, 1)\n",
    "    enc = OneHotEncoder().fit(X)\n",
    "    re = pd.DataFrame(enc.transform(X).toarray(), columns=['M1','M2','M3','M4','M5','M6'])\n",
    "    return pd.merge(with_ohe, re, left_index=True, right_index=True)\n",
    "\n",
    "def add_log_vals(data):\n",
    "    with_logs = data.copy()\n",
    "    with_logs['Log Land Square Feet'] = np.log(data['Land Square Feet'])\n",
    "    with_logs['Log Log Land Square Feet'] = np.log(np.log(data['Land Square Feet']))\n",
    "    with_logs['Log Building Square Feet'] = np.log(data['Building Square Feet'])\n",
    "    with_logs['Log Log Building Square Feet'] = np.log(np.log(data['Building Square Feet']))\n",
    "    return with_logs\n",
    "\n",
    "def process_data_gm(data, pipeline_functions, prediction_col):\n",
    "    \"\"\"Process the data for a guided model.\"\"\"\n",
    "    for function, arguments, keyword_arguments in pipeline_functions:\n",
    "        if keyword_arguments and (not arguments):\n",
    "            data = data.pipe(function, **keyword_arguments)\n",
    "        elif (not keyword_arguments) and (arguments):\n",
    "            data = data.pipe(function, *arguments)\n",
    "        else:\n",
    "            data = data.pipe(function)\n",
    "    X = data.drop(columns=[prediction_col]).to_numpy()\n",
    "    y = data.loc[:, prediction_col].to_numpy()\n",
    "    return X, y\n",
    "\n",
    "def select_columns(data, *columns):\n",
    "    \"\"\"Select only columns passed as arguments.\"\"\"\n",
    "    return data.loc[:, columns]"
   ]
  },
  {
   "cell_type": "markdown",
   "id": "6b4315be",
   "metadata": {},
   "source": [
    "## Step 2. Setup your `process_data_fm` function\n",
    "\n",
    "**Create your implementation of `process_data_fm` from into the following cell.**\n",
    "\n",
    "Here are a few additional things **you should check and change to make sure your `process_data_fm` function satisfies**:\n",
    "- Unlike part 1, we will not be expecting your `process_data_fm` function to return both the design matrix `X` and the observed target vector `y`; your function should now **only return X**.\n"
   ]
  },
  {
   "cell_type": "code",
   "execution_count": 160,
   "id": "e723d9a7",
   "metadata": {},
   "outputs": [],
   "source": [
    "# Please include all of your feature engineering process inside this function.\n",
    "# Do not modify the parameters of the function below. \n",
    "# Note that data will no longer have the column Sale Price in it directly, so plan your feature engineering process around that.\n",
    "def process_data_fm(data):\n",
    "    # Replace the following line with your own feature engineering pipeline\n",
    "    X = data\n",
    "    X = add_total_bedrooms(X)\n",
    "    X = add_total_bathrooms(X)\n",
    "    X = add_log_vals(X)\n",
    "    X = process_ohe_vals(X,'Wall Material', 'Roof Material', 'Basement',\n",
    "       'Basement Finish', 'Central Heating', 'Central Air', 'Repair Condition')\n",
    "    X.drop(['PIN', 'Property Class', 'Neighborhood Code', 'Land Square Feet',\n",
    "       'Town Code', 'Apartments', 'Wall Material', 'Roof Material', 'Basement',\n",
    "       'Basement Finish', 'Central Heating', 'Other Heating', 'Central Air', 'Attic Type', 'Attic Finish', 'Design Plan',\n",
    "       'Cathedral Ceiling', 'Construction Quality', 'Site Desirability',\n",
    "       'Garage 1 Size', 'Garage 1 Material', 'Garage 1 Attachment',\n",
    "       'Garage 1 Area', 'Garage 2 Size', 'Garage 2 Material',\n",
    "       'Garage 2 Attachment', 'Garage 2 Area', 'Porch', 'Other Improvements',\n",
    "       'Building Square Feet', 'Repair Condition', 'Multi Code',\n",
    "       'Deed No.', 'Census Tract',\n",
    "       'Multi Property Indicator', 'Modeling Group', 'Floodplain', 'Road Proximity', 'Sale Year',\n",
    "       'Sale Quarter', 'Sale Half-Year', 'Sale Quarter of Year',\n",
    "       'Sale Month of Year', 'Sale Half of Year', 'Most Recent Sale',\n",
    "       'Age Decade', 'Pure Market Filter',\n",
    "       'Neigborhood Code (mapping)', 'Town and Neighborhood', 'Description', 'Age', 'Number of Commercial Units', 'Estimate (Land)',\n",
    "       'Estimate (Building)',\n",
    "       'Lot Size'], axis=1, inplace=True)\n",
    "    return X\n"
   ]
  },
  {
   "cell_type": "code",
   "execution_count": 161,
   "id": "b31c5670",
   "metadata": {},
   "outputs": [
    {
     "data": {
      "text/plain": [
       "(117789.40042244806, 119429.92993688404)"
      ]
     },
     "execution_count": 161,
     "metadata": {},
     "output_type": "execute_result"
    }
   ],
   "source": [
    "from sklearn.model_selection import train_test_split\n",
    "\n",
    "\n",
    "train_data = pd.read_csv('cook_county_contest_train.csv')\n",
    "y_train = np.log(train_data['Sale Price'])\n",
    "train_data = train_data.drop(columns=['Sale Price'])\n",
    "X_train = process_data_fm(train_data)\n",
    "\n",
    "x_selftrain,x_selftest, y_selftrain, y_selftest = train_test_split(X_train, y_train, random_state=42)\n",
    "\n",
    "model = lm.LinearRegression(fit_intercept=True)\n",
    "###You can use other models\n",
    "model.fit(x_selftrain, y_selftrain)\n",
    "y_selffitted = model.predict(x_selftrain)\n",
    "def rmse(predicted, actual):\n",
    "    return np.sqrt(np.mean((np.exp(actual) - np.exp(predicted))**2))\n",
    "training_error = rmse(y_selffitted, y_selftrain)\n",
    "y_selfpredicted = model.predict(x_selftest)\n",
    "\n",
    "testing_error = rmse(y_selfpredicted, y_selftest)\n",
    "# training_error, testing_error"
   ]
  },
  {
   "cell_type": "code",
   "execution_count": 162,
   "id": "b1abd4cb",
   "metadata": {},
   "outputs": [
    {
     "data": {
      "text/plain": [
       "118608.7370377128"
      ]
     },
     "execution_count": 162,
     "metadata": {},
     "output_type": "execute_result"
    }
   ],
   "source": [
    "model = lm.LinearRegression(fit_intercept=True)\n",
    "###You can use other models\n",
    "model.fit(X_train, y_train)\n",
    "y_fitted = model.predict(X_train)\n",
    "def rmse(predicted, actual):\n",
    "    return np.sqrt(np.mean((np.exp(actual) - np.exp(predicted))**2))\n",
    "training_error = rmse(y_fitted, y_train)\n",
    "# training_error"
   ]
  },
  {
   "cell_type": "markdown",
   "id": "334d437d",
   "metadata": {},
   "source": [
    "## Step 3. Train your model\n",
    "\n",
    "Run the following cell to import the new set of training data to fit your model on. **You can use any regression model, the following is just an example** If your `process_data_fm` satisfies all the specified requirements, the cell should run without any error.\n",
    "\n",
    "**As usual**, your model will predict the log-transformed sale price, and our grading will transform your predictions back to the normal vlaues."
   ]
  },
  {
   "cell_type": "code",
   "execution_count": 163,
   "id": "cd04c6dd",
   "metadata": {},
   "outputs": [],
   "source": [
    "train_data = pd.read_csv('cook_county_contest_train.csv')\n",
    "y_train = np.log(train_data['Sale Price'])\n",
    "train_data = train_data.drop(columns=['Sale Price'])\n",
    "X_train = process_data_fm(train_data)\n",
    "model = lm.LinearRegression(fit_intercept=True)\n",
    "###You can use other models\n",
    "model.fit(X_train, y_train);"
   ]
  },
  {
   "cell_type": "code",
   "execution_count": 164,
   "id": "5ffca7c9",
   "metadata": {},
   "outputs": [
    {
     "data": {
      "text/plain": [
       "{'copy_X': True,\n",
       " 'fit_intercept': True,\n",
       " 'n_jobs': None,\n",
       " 'normalize': 'deprecated',\n",
       " 'positive': False}"
      ]
     },
     "execution_count": 164,
     "metadata": {},
     "output_type": "execute_result"
    }
   ],
   "source": [
    "model.get_params()"
   ]
  },
  {
   "cell_type": "code",
   "execution_count": 175,
   "id": "72108c4f",
   "metadata": {},
   "outputs": [
    {
     "data": {
      "text/plain": [
       "118608.7370377128"
      ]
     },
     "execution_count": 175,
     "metadata": {},
     "output_type": "execute_result"
    }
   ],
   "source": [
    "def rmse(predicted, actual):\n",
    "    return np.sqrt(np.mean((np.exp(actual) - np.exp(predicted))**2))\n",
    "training_error = rmse(y_fitted, y_train)\n",
    "training_error"
   ]
  },
  {
   "cell_type": "markdown",
   "id": "6c03ebe4",
   "metadata": {},
   "source": [
    "## Step 4. Make Predictions on the Test Dataset\n",
    "\n",
    "Run the following cell to estimate the sale price on the test dataset and export your model's predictions as a csv file called `predictions.csv`."
   ]
  },
  {
   "cell_type": "code",
   "execution_count": 165,
   "id": "06d74ba8",
   "metadata": {},
   "outputs": [
    {
     "name": "stdout",
     "output_type": "stream",
     "text": [
      "Your predictions have been exported as predictions.csv. Please download the file and submit it to Canvas. \n"
     ]
    }
   ],
   "source": [
    "test_data = pd.read_csv('cook_county_contest_test.csv')\n",
    "X_test = process_data_fm(test_data)\n",
    "y_test_predicted = model.predict(X_test)\n",
    "###If you took log in the prediction, please convert it back to regular scale\n",
    "###Check y_test_predicts has the same range of your sale price in training\n",
    "predictions = pd.DataFrame({'Sale Price': np.exp(y_test_predicted)})\n",
    "predictions.to_csv('predictions.csv')\n",
    "print('Your predictions have been exported as predictions.csv. Please download the file and submit it to Canvas. ')"
   ]
  },
  {
   "cell_type": "code",
   "execution_count": null,
   "id": "ced3efa9",
   "metadata": {},
   "outputs": [],
   "source": []
  }
 ],
 "metadata": {
  "kernelspec": {
   "display_name": "Python 3.10.4 64-bit",
   "language": "python",
   "name": "python3"
  },
  "language_info": {
   "codemirror_mode": {
    "name": "ipython",
    "version": 3
   },
   "file_extension": ".py",
   "mimetype": "text/x-python",
   "name": "python",
   "nbconvert_exporter": "python",
   "pygments_lexer": "ipython3",
   "version": "3.10.4"
  },
  "vscode": {
   "interpreter": {
    "hash": "105d4de82cf4b56b13c0ebfcf3dccb2e49bd8d2d54660b7b1970d3938a1b2e00"
   }
  }
 },
 "nbformat": 4,
 "nbformat_minor": 5
}
