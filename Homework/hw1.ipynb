{
 "cells": [
  {
   "cell_type": "markdown",
   "metadata": {},
   "source": [
    "# Homework 1 ECE 4710J"
   ]
  },
  {
   "cell_type": "code",
   "execution_count": 39,
   "metadata": {},
   "outputs": [],
   "source": [
    "import numpy as np\n",
    "import pandas as pd\n",
    "import matplotlib.pyplot as plt"
   ]
  },
  {
   "cell_type": "markdown",
   "metadata": {},
   "source": [
    "## Q1\n",
    "1. B= $\\begin{bmatrix} 2 & 2 & 2 \\\\5&8&0\\\\0&2&3\\\\0&0&10 \\end{bmatrix}$\n",
    "\n",
    "\n",
    "2. A= $\\begin{bmatrix} 2 & 1 & 0&0 \\\\1&1&1&1\\\\0&0&0&10 \\end{bmatrix}$\n",
    "\n",
    "\n",
    "3. $AB\\vec{v_2} = \\vec{x}$\n",
    "\n",
    "    $\\vec{v_2}= \\begin{bmatrix} 5.5\\\\2.20833\\\\1 \\end{bmatrix}$"
   ]
  },
  {
   "cell_type": "code",
   "execution_count": 40,
   "metadata": {},
   "outputs": [],
   "source": [
    "B = np.array([[2, 2, 2], [5, 8, 0], [0, 2, 3], [0, 0, 10]])\n",
    "A = np.array([[2,1,0,0],[1,1,1,1],[0,0,0,10]])\n",
    "x = np.array([[80], [80], [100]])\n",
    "AB = np.dot(A,B)\n",
    "v2 = np.dot(np.linalg.inv(AB), x)"
   ]
  },
  {
   "cell_type": "markdown",
   "metadata": {},
   "source": [
    "## Q2\n",
    "1. \n",
    "$$\n",
    "\\begin{aligned}\n",
    "\\sigma(-x) &= \\frac{1}{1+e^{x}}\\\\\n",
    "1- \\sigma(x) &= 1 - \\frac{1}{1+e^{-x}} \\\\\n",
    "&=\\frac{ e^{-x} \\cdot e^{x}}{(1+e^{-x})\\cdot e^{x}} \\\\\n",
    "& = \\sigma(-x)\n",
    "\\end{aligned}\n",
    "$$\n",
    "2. \n",
    "$$\n",
    "\\begin{aligned}\n",
    "\\frac{d}{dx}\\sigma(x) &= \\frac{e^{-x}}{(1+e^{-x})^2} \\\\\n",
    "\\sigma(x)(1- \\sigma(x)) &=\\frac{1}{1+e^{-x}}\\frac{1}{1+e^{x}}\\\\\n",
    "&=\\frac{e^{-x}}{(1+e^{x})(1+e^{-x})e^{-x}} \\\\\n",
    "&=\\frac{e^{-x}}{(1+e^{-x})^2}\n",
    "\\end{aligned}\n",
    "$$\n"
   ]
  },
  {
   "cell_type": "code",
   "execution_count": 41,
   "metadata": {},
   "outputs": [
    {
     "data": {
      "image/png": "[encoded data removed]",
      "text/plain": [
       "<Figure size 288x288 with 1 Axes>"
      ]
     },
     "metadata": {
      "needs_background": "light"
     },
     "output_type": "display_data"
    }
   ],
   "source": [
    "def f(x):\n",
    "    return 1/(1+np.exp(-x))\n",
    "    \n",
    "def df(x):\n",
    "    return  (np.exp(-x))/(1+np.exp(-x))**2\n",
    "\n",
    "def plot(f, df):              \n",
    "    plt.figure(figsize=(4,4))\n",
    "    x = np.arange(-5, 5, 0.1)\n",
    "    plt.plot(x, f(x))\n",
    "    plt.plot(x, df(x), color='gold')\n",
    "\n",
    "plot(f, df)"
   ]
  },
  {
   "cell_type": "markdown",
   "metadata": {},
   "source": [
    "## Q3\n",
    "$$\n",
    "\\begin{aligned}\n",
    "f(c) &= \\frac{1}{n} \\sum_{i=1}^n(x_i-c)^2 \\\\\n",
    "\\frac{d}{dc}f(c) &= \\frac{1}{n} \\sum_{i=1}^n -2*(x_i-c) \\\\\n",
    "&=  (\\frac{1}{n} \\sum_{i=1}^n -2x_i) +2c \\\\\n",
    "\\frac{d^2}{dc^2}f(c) &=2 > 0\\\\ \n",
    "\\text{Because }& f(c) \\geq 0, \\frac{d^2}{dc^2}f(c) > 0, \\frac{d}{dc}f(c) \\text{ is always increasing,  When } \\\\ & \\frac{d}{dc}f(c) = 0, f(c) \\text{ will reach the minimum}. \\\\\n",
    "\\text{Let } \\frac{d}{dc}f(c) &= 0\\\\\n",
    "c&=  \\frac{1}{n} \\sum_{i=1}^n x_i \\\\\n",
    "\\end{aligned}\n",
    "$$"
   ]
  },
  {
   "cell_type": "markdown",
   "metadata": {},
   "source": [
    "## Q4\n",
    "Let B = \"the woman has breast cancer\" and A = \"a positive test\".\n",
    "$$\n",
    "\\begin{aligned}\n",
    "P(B) &= 0.01,P(\\bar{B})=0.99,P(A|B) = 0.8,P(A\\cap \\bar{B})=0.096\\\\\n",
    "P(A) &=  P(A\\cap B)P(B) + P(A\\cap \\bar{B})P(\\bar{B}) = 0.8*0.01 + 0.096*0.99 = 0.103\\\\\n",
    "P(B|A) &= \\frac{P(B\\cap A)}{P(A)} = \\frac{0.8*0.01}{0.103} =0.078\\\\\n",
    "\\end{aligned}\n",
    "$$"
   ]
  },
  {
   "cell_type": "markdown",
   "metadata": {},
   "source": [
    "## Q5\n",
    "b 6.1\n",
    "\n",
    "It's a normal distribution and full width at half maximum (FWHM) could be estimated around 15.\n",
    "It relates to the standard deviation $\\sigma$ as\n",
    "FWHM≈2.36 $\\sigma$ for a normal distribution.\n",
    "So The closest answer is b. "
   ]
  },
  {
   "cell_type": "markdown",
   "metadata": {},
   "source": [
    "## Q6\n",
    "No. Different biases cause this problem. Selection bias is common when analyzing. The selected sample may not cover different populations because of the sampling frame. It also had non-response bias as only 24% people responded."
   ]
  }
 ],
 "metadata": {
  "interpreter": {
   "hash": "63db1975c182a67e20e15a0a43ece3d7bed9ffa3eaa187e8880c3f899ba42f46"
  },
  "kernelspec": {
   "display_name": "Python 3.9.12 ('base')",
   "language": "python",
   "name": "python3"
  },
  "language_info": {
   "codemirror_mode": {
    "name": "ipython",
    "version": 3
   },
   "file_extension": ".py",
   "mimetype": "text/x-python",
   "name": "python",
   "nbconvert_exporter": "python",
   "pygments_lexer": "ipython3",
   "version": "3.9.12"
  },
  "orig_nbformat": 4
 },
 "nbformat": 4,
 "nbformat_minor": 2
}
